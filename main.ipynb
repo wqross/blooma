{
 "cells": [
  {
   "cell_type": "code",
   "execution_count": 72,
   "metadata": {},
   "outputs": [],
   "source": [
    "import pandas as pd\n",
    "import torch\n",
    "import torch.nn as nn\n",
    "import torch.optim as optim\n",
    "from sklearn.model_selection import train_test_split\n",
    "from sklearn.feature_extraction.text import CountVectorizer"
   ]
  },
  {
   "cell_type": "code",
   "execution_count": 81,
   "metadata": {},
   "outputs": [],
   "source": [
    "data = pd.read_csv('data.csv')\n",
    "\n",
    "X = data['activity']\n",
    "y = data['category']\n",
    "\n",
    "X_train, X_test, y_train, y_test = train_test_split(X, y, test_size=0.2, random_state=36)\n",
    "\n",
    "vectorizer = CountVectorizer()\n",
    "X_train_counts = vectorizer.fit_transform(X_train)\n",
    "X_test_counts = vectorizer.transform(X_test)\n",
    "\n",
    "X_train_tensor = torch.tensor(X_train_counts.toarray(), dtype=torch.float32)\n",
    "X_test_tensor = torch.tensor(X_test_counts.toarray(), dtype=torch.float32)\n",
    "\n",
    "label_to_idx = {label: idx for idx, label in enumerate(y.unique())}\n",
    "y_train_idx = torch.tensor([label_to_idx[label] for label in y_train], dtype=torch.long)\n",
    "y_test_idx = torch.tensor([label_to_idx[label] for label in y_test], dtype=torch.long)\n",
    "\n",
    "class NeuralNetwork(nn.Module):\n",
    "    def __init__(self, input_size, hidden_size1, hidden_size2, hidden_size3, hidden_size4, num_classes):\n",
    "        super(NeuralNetwork, self).__init__()\n",
    "        self.fc1 = nn.Linear(input_size, hidden_size1)\n",
    "        self.relu1 = nn.ReLU()\n",
    "        self.fc2 = nn.Linear(hidden_size1, hidden_size2)\n",
    "        self.relu2 = nn.ReLU()\n",
    "        self.fc3 = nn.Linear(hidden_size2, hidden_size3)\n",
    "        self.relu3 = nn.ReLU()\n",
    "        self.fc4 = nn.Linear(hidden_size3, hidden_size4)\n",
    "        self.relu4 = nn.ReLU()\n",
    "        self.fc5 = nn.Linear(hidden_size4, num_classes)\n",
    "\n",
    "    def forward(self, x):\n",
    "        out = self.fc1(x)\n",
    "        out = self.relu1(out)\n",
    "        out = self.fc2(out)\n",
    "        out = self.relu2(out)\n",
    "        out = self.fc3(out)\n",
    "        out = self.relu3(out)\n",
    "        out = self.fc4(out)\n",
    "        out = self.relu4(out)\n",
    "        out = self.fc5(out)\n",
    "        return out\n",
    "\n",
    "# параметры\n",
    "input_size = X_train_tensor.shape[1]\n",
    "hidden_size1 = 1800\n",
    "hidden_size2 = 1200\n",
    "hidden_size3 = 900\n",
    "hidden_size4 = 300\n",
    "num_classes = len(label_to_idx)\n",
    "learning_rate = 0.001\n",
    "num_epochs = 1000\n",
    "\n",
    "model = NeuralNetwork(input_size, hidden_size1, hidden_size2, hidden_size3, hidden_size4, num_classes)\n",
    "\n",
    "criterion = nn.CrossEntropyLoss()\n",
    "optimizer = optim.Adam(model.parameters(), lr=learning_rate)"
   ]
  },
  {
   "cell_type": "code",
   "execution_count": 37,
   "metadata": {},
   "outputs": [],
   "source": [
    "# обучение\n",
    "for epoch in range(num_epochs):\n",
    "    outputs = model(X_train_tensor)\n",
    "    loss = criterion(outputs, y_train_idx)\n",
    "    \n",
    "    # оптимизация\n",
    "    optimizer.zero_grad()\n",
    "    loss.backward()\n",
    "    optimizer.step()"
   ]
  },
  {
   "cell_type": "code",
   "execution_count": 68,
   "metadata": {},
   "outputs": [
    {
     "name": "stdout",
     "output_type": "stream",
     "text": [
      "Accuracy: 0.7694\n"
     ]
    }
   ],
   "source": [
    "# оценка\n",
    "with torch.no_grad():\n",
    "    outputs = model(X_test_tensor)\n",
    "    _, predicted = torch.max(outputs, 1)\n",
    "    accuracy = (predicted == y_test_idx).sum().item() / len(y_test_idx)\n",
    "    print(f'Accuracy: {accuracy:.4f}')"
   ]
  },
  {
   "cell_type": "code",
   "execution_count": 36,
   "metadata": {},
   "outputs": [],
   "source": [
    "# сохранение модели\n",
    "torch.save(model.state_dict(), 'trained_model.pth')"
   ]
  },
  {
   "cell_type": "code",
   "execution_count": 67,
   "metadata": {},
   "outputs": [
    {
     "data": {
      "text/plain": [
       "<All keys matched successfully>"
      ]
     },
     "execution_count": 67,
     "metadata": {},
     "output_type": "execute_result"
    }
   ],
   "source": [
    "# загрузка \n",
    "model.load_state_dict(torch.load('trained_model.pth'))"
   ]
  },
  {
   "cell_type": "code",
   "execution_count": 80,
   "metadata": {},
   "outputs": [
    {
     "name": "stdout",
     "output_type": "stream",
     "text": [
      "прогноз ии: Everyday_Activities\n"
     ]
    }
   ],
   "source": [
    "# задаем занятие\n",
    "your_activity = [str(input())]\n",
    "\n",
    "vectorizer = CountVectorizer(vocabulary=vectorizer.vocabulary_)\n",
    "your_activity_counts = vectorizer.transform(your_activity)\n",
    "your_activity_tensor = torch.tensor(your_activity_counts.toarray(), dtype=torch.float32)\n",
    "\n",
    "with torch.no_grad():\n",
    "    prediction = model(your_activity_tensor)\n",
    "    predicted_category_idx = torch.argmax(prediction).item()\n",
    "    idx_to_label = {idx: label for label, idx in label_to_idx.items()}\n",
    "    predicted_category = idx_to_label[predicted_category_idx]\n",
    "\n",
    "print(\"прогноз ии:\", predicted_category)"
   ]
  }
 ],
 "metadata": {
  "kernelspec": {
   "display_name": "Python 3",
   "language": "python",
   "name": "python3"
  },
  "language_info": {
   "codemirror_mode": {
    "name": "ipython",
    "version": 3
   },
   "file_extension": ".py",
   "mimetype": "text/x-python",
   "name": "python",
   "nbconvert_exporter": "python",
   "pygments_lexer": "ipython3",
   "version": "3.9.13"
  }
 },
 "nbformat": 4,
 "nbformat_minor": 2
}
